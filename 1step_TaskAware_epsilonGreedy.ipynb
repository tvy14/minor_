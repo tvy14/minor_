{
  "nbformat": 4,
  "nbformat_minor": 0,
  "metadata": {
    "colab": {
      "provenance": []
    },
    "kernelspec": {
      "name": "python3",
      "display_name": "Python 3"
    },
    "language_info": {
      "name": "python"
    }
  },
  "cells": [
    {
      "cell_type": "code",
      "source": [
        "import random"
      ],
      "metadata": {
        "id": "TOqLhePqr2-M"
      },
      "execution_count": 3,
      "outputs": []
    },
    {
      "cell_type": "code",
      "source": [
        "# Number of arms (slot machines)\n",
        "num_arms = 5\n",
        "\n",
        "# True probability of winning for each arm\n",
        "win_probs = [0.12, 0.33, 0.45, 0.66, 0.87]  # These probabilities are usually unknown in real scenarios\n",
        "\n",
        "\n",
        "random_event = random.uniform(0, 1)\n",
        "\n",
        "# Epsilon value for exploration - so this is the epsilon greedy\n",
        "epsilon = 0.05 #try to use the smaller steps so it's not bias\n",
        "\n",
        "# Initialize counts and rewards\n",
        "counts = [0] * num_arms  # Number of times each arm is pulled\n",
        "rewards = [0.0] * num_arms  # Total reward of each arm\n"
      ],
      "metadata": {
        "id": "KE77KCV4r36_"
      },
      "execution_count": 8,
      "outputs": []
    },
    {
      "cell_type": "code",
      "source": [
        "print(random.uniform)\n"
      ],
      "metadata": {
        "colab": {
          "base_uri": "https://localhost:8080/"
        },
        "id": "6ZVrBxl9w2Yx",
        "outputId": "9e4b5440-80a2-40e0-e18b-e2ddf803dbec"
      },
      "execution_count": 5,
      "outputs": [
        {
          "output_type": "stream",
          "name": "stdout",
          "text": [
            "<bound method Random.uniform of <random.Random object at 0x5d09afece870>>\n"
          ]
        }
      ]
    },
    {
      "cell_type": "code",
      "source": [
        "#Error per 2 Jan 2024\n",
        "\n",
        "#Define Winning Arm based on (random_event)\n",
        "winning_arm = None\n",
        "cumulative_prob = 0.0\n",
        "\n",
        "for i, prob in enumerate(win_probs):\n",
        "  cumulative_prob += prob\n",
        "  if random_event < cumulative_prob:\n",
        "    winning_arm = i\n",
        "    break\n",
        "\n",
        "  is_winner = winning_arm is not None\n",
        "\n",
        "  print(\"Winning Arm:\", winning_arm)\n",
        "  print(\"Is_Winner:\", is_winner)"
      ],
      "metadata": {
        "colab": {
          "base_uri": "https://localhost:8080/"
        },
        "id": "Rc-E1oOaw_bR",
        "outputId": "5ad63332-f592-4099-b905-38ccffcfecaf"
      },
      "execution_count": 9,
      "outputs": [
        {
          "output_type": "stream",
          "name": "stdout",
          "text": [
            "Winning Arm: None\n",
            "Is_Winner: False\n",
            "Winning Arm: None\n",
            "Is_Winner: False\n"
          ]
        }
      ]
    },
    {
      "cell_type": "code",
      "source": [
        "# Function to choose an arm\n",
        "def choose_arm(epsilon):\n",
        "    if random.random() > epsilon:\n",
        "        # Exploit: Choose the best-known arm\n",
        "        return rewards.index(max(rewards))\n",
        "    else:\n",
        "        # Explore: Choose a random arm\n",
        "        return random.randrange(num_arms)\n"
      ],
      "metadata": {
        "id": "2-lLxJfTuTXS"
      },
      "execution_count": null,
      "outputs": []
    },
    {
      "cell_type": "code",
      "source": [
        "\n",
        "# Simulate pulling arms\n",
        "num_trials = 1000\n",
        "for _ in range(num_trials):\n",
        "    chosen_arm = choose_arm(epsilon)\n",
        "    reward = 1 if random.random() < win_probs[chosen_arm] else 0\n",
        "    counts[chosen_arm] += 1\n",
        "    rewards[chosen_arm] += reward\n",
        "\n",
        "# Display results\n",
        "for i in range(num_arms):\n",
        "    print(f\"Arm {i} - Total Pulls: {counts[i]}, Total Reward: {rewards[i]}\")\n",
        "\n",
        "# Best arm identified by the algorithm\n",
        "print(f\"Best Arm Identified: Arm {rewards.index(max(rewards))}\")\n"
      ],
      "metadata": {
        "id": "T2KCYKvjr_w0",
        "colab": {
          "base_uri": "https://localhost:8080/"
        },
        "outputId": "d14ffd37-28af-4981-d3e4-6de507012a08"
      },
      "execution_count": null,
      "outputs": [
        {
          "output_type": "stream",
          "name": "stdout",
          "text": [
            "Arm 0 - Total Pulls: 951, Total Reward: 108.0\n",
            "Arm 1 - Total Pulls: 7, Total Reward: 5.0\n",
            "Arm 2 - Total Pulls: 15, Total Reward: 10.0\n",
            "Arm 3 - Total Pulls: 17, Total Reward: 14.0\n",
            "Arm 4 - Total Pulls: 10, Total Reward: 8.0\n",
            "Best Arm Identified: Arm 0\n"
          ]
        }
      ]
    }
  ]
}